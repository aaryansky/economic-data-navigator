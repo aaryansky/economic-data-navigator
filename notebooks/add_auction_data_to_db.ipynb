{
 "cells": [
  {
   "cell_type": "code",
   "execution_count": 2,
   "id": "39145f93",
   "metadata": {},
   "outputs": [
    {
     "name": "stdout",
     "output_type": "stream",
     "text": [
      "Successfully loaded the G-Sec auction data into the 'gsec_auctions' table in your database.\n",
      "\n",
      "--- A preview of the data added ---\n",
      "             name_of_the_security    date_of_issue      date_of_maturity  \\\n",
      "0  6.01% Government Security 2030  August 14, 2025         June 22, 2030   \n",
      "1    New Government Security 2055  August 14, 2025  To be notified later   \n",
      "2  7.35% Government Security 2029    July 22, 2025         June 22, 2029   \n",
      "3  7.26% Government Security 2033    July 22, 2025         July 22, 2033   \n",
      "4    New Government Security 2035    July 22, 2025  To be notified later   \n",
      "\n",
      "            coupon_rate notified_amount_(₹_crore)  \\\n",
      "0                 6.01%                    15,000   \n",
      "1  To be notified later                    13,000   \n",
      "2                 7.35%                    12,000   \n",
      "3                 7.26%                     7,000   \n",
      "4  To be notified later                     8,000   \n",
      "\n",
      "                                         source_file  \n",
      "0  Press Release for auction of G-Sec- 11.08.2025...  \n",
      "1  Press Release for auction of G-Sec- 11.08.2025...  \n",
      "2  Press Release for auction of G-Sec- 21.07.2025...  \n",
      "3  Press Release for auction of G-Sec- 21.07.2025...  \n",
      "4  Press Release for auction of G-Sec- 21.07.2025...  \n"
     ]
    }
   ],
   "source": [
    "import pandas as pd\n",
    "from sqlalchemy import create_engine\n",
    "\n",
    "# --- LOAD YOUR FINAL CONSOLIDATED CSV ---\n",
    "csv_path = '../data/processed/consolidated_gsec_auctions_final.csv'\n",
    "df = pd.read_csv(csv_path)\n",
    "\n",
    "# --- CONNECT TO THE DATABASE AND ADD THE NEW TABLE ---\n",
    "db_path = '../data/processed/esd_indicators.sqlite'\n",
    "engine = create_engine(f'sqlite:///{db_path}')\n",
    "\n",
    "# Write the DataFrame to a new SQL table named 'gsec_auctions'\n",
    "# if_exists='replace' will overwrite the table if you run this again\n",
    "df.to_sql('gsec_auctions', engine, if_exists='replace', index=False)\n",
    "\n",
    "print(\"Successfully loaded the G-Sec auction data into the 'gsec_auctions' table in your database.\")\n",
    "print(\"\\n--- A preview of the data added ---\")\n",
    "print(df.head())"
   ]
  }
 ],
 "metadata": {
  "kernelspec": {
   "display_name": ".venv-311",
   "language": "python",
   "name": "python3"
  },
  "language_info": {
   "codemirror_mode": {
    "name": "ipython",
    "version": 3
   },
   "file_extension": ".py",
   "mimetype": "text/x-python",
   "name": "python",
   "nbconvert_exporter": "python",
   "pygments_lexer": "ipython3",
   "version": "3.11.9"
  }
 },
 "nbformat": 4,
 "nbformat_minor": 5
}
